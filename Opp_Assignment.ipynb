{
  "nbformat": 4,
  "nbformat_minor": 0,
  "metadata": {
    "colab": {
      "provenance": []
    },
    "kernelspec": {
      "name": "python3",
      "display_name": "Python 3"
    },
    "language_info": {
      "name": "python"
    }
  },
  "cells": [
    {
      "cell_type": "markdown",
      "source": [
        "**ANS:1** Object-Oriented Programming (OOP) is a programming paradigm based on the concept of objects, which are instances of classes. It is designed to structure programs in a way that models real-world entities by bundling data and behavior together"
      ],
      "metadata": {
        "id": "BZR9gR3oFltG"
      }
    },
    {
      "cell_type": "markdown",
      "source": [
        "**ANS:2** A class in Object-Oriented Programming (OOP) is a blueprint or template for creating objects. It defines attributes (data) and methods (functions) that describe the behavior of the objects created from it."
      ],
      "metadata": {
        "id": "oGpYfai3GxaE"
      }
    },
    {
      "cell_type": "markdown",
      "source": [
        "**ANS:3**\n",
        "An object in Object-Oriented Programming (OOP) is an instance of a class. It represents a real-world entity with attributes (data) and methods (behavior) defined in the class."
      ],
      "metadata": {
        "id": "q2PYYu9kGyu3"
      }
    },
    {
      "cell_type": "markdown",
      "source": [
        "**ANS:4**\n",
        "\n",
        "Abstraction focuses on hiding complex implementation details and exposing only the necessary functionality to the user.\n",
        "\n",
        "Encapsulation focuses on hiding the data within a class and restricting direct access to it. Points are followed\n",
        "\n",
        "1. Data is accessed and modified through getter and setter methods.\n",
        "\n",
        "2. Improves security and prevents accidental modifications."
      ],
      "metadata": {
        "id": "UkMEcURiG2aY"
      }
    },
    {
      "cell_type": "markdown",
      "source": [
        "**ANS:5** Dunder methods (short for \"double underscore\" methods), also known as magic methods, are special methods in Python that start and end with double underscores (__method__). These methods define how objects of a class behave with built-in Python operations, such as arithmetic, string representation, and object comparison."
      ],
      "metadata": {
        "id": "abC19uWZG2y9"
      }
    },
    {
      "cell_type": "markdown",
      "source": [
        "**ANS:6** Inheritance is a fundamental concept in OOP that allows a class (child class) to inherit attributes and methods from another class (parent class). This promotes code reuse, reduces redundancy, and helps create a structured hierarchy."
      ],
      "metadata": {
        "id": "35f5lYqXG4lg"
      }
    },
    {
      "cell_type": "markdown",
      "source": [
        "**ANS:7** Polymorphism means \"many forms\" and allows the same method or function to work differently based on the object calling it. It enables objects of different classes to be treated as objects of a common superclass"
      ],
      "metadata": {
        "id": "LJFYcrWIG4iF"
      }
    },
    {
      "cell_type": "markdown",
      "source": [
        "**ANS:8** Encapsulation is an OOP principle that restricts direct access to an object's data and methods, ensuring controlled data access through getter and setter methods. It helps protect sensitive information and maintain code security"
      ],
      "metadata": {
        "id": "t4tBiTvrG4fl"
      }
    },
    {
      "cell_type": "markdown",
      "source": [
        "**ANS:9** A constructor in Python is a special method called __init__() that automatically executes when an object of a class is created. It initializes the attributes (variables) of the class"
      ],
      "metadata": {
        "id": "hoNDsVYPG4dT"
      }
    },
    {
      "cell_type": "markdown",
      "source": [
        "**ANS:10**\n",
        "\n",
        "A class method operates on the class itself rather than on instances. It takes cls as its first parameter and can modify class attributes\n",
        "\n",
        "A static method is completely independent of the class and instance. It does not access or modify instance/class attributes."
      ],
      "metadata": {
        "id": "b_11AIvHG4bN"
      }
    },
    {
      "cell_type": "markdown",
      "source": [
        "**ANS:11** Method overloading is an OOP feature that allows multiple methods in a class to have the same name but different parameters. However, Python does not support traditional method overloading like Java or C++"
      ],
      "metadata": {
        "id": "GZKY5w7fG4Yt"
      }
    },
    {
      "cell_type": "markdown",
      "source": [
        "**ANS:12** Method overriding is an OOP feature that allows a child class to redefine a method inherited from a parent class. It enables custom behavior while maintaining the same method name and parameters\n"
      ],
      "metadata": {
        "id": "C317xle_G4WV"
      }
    },
    {
      "cell_type": "markdown",
      "source": [
        "**ANS:13** The @property decorator in Python is used to define getter, setter, and deleter methods in a class. It allows controlled access to class attributes while encapsulating logic behind attribute access"
      ],
      "metadata": {
        "id": "PAV8hbW7G4T8"
      }
    },
    {
      "cell_type": "markdown",
      "source": [
        "**ANS:14**\n",
        "1. Increases Code Reusability – The same function works for multiple data types or classes.\n",
        "2. Enhances Flexibility & Scalability – Easy to extend without modifying existing code.\n",
        "3. Simplifies Code Maintenance – Reduces redundancy and makes code cleaner.\n",
        "4. Supports Dynamic Method Binding – The correct method is chosen at runtime.\n",
        "5. Encourages Interface-Based Design – Improves modularity and collaboration"
      ],
      "metadata": {
        "id": "zZ1msqV2G4Rm"
      }
    },
    {
      "cell_type": "markdown",
      "source": [
        "**ANS:15** An abstract class in Python is a class that cannot be instantiated and is meant to be a blueprint for other classes. It contains one or more abstract methods, which must be implemented by subclasses.\n",
        "\n",
        "Python provides abstract classes using the ABC module (Abstract Base Class)."
      ],
      "metadata": {
        "id": "Hia4_74iG4PZ"
      }
    },
    {
      "cell_type": "markdown",
      "source": [
        "**ANS:16**\n",
        "\n",
        "Key Advantages of OOP\n",
        "\n",
        "1. Code Reusability (Inheritance)\n",
        "\n",
        "2. Encapsulation (Data Security)\n",
        "\n",
        "3.  Polymorphism (Flexibility & Extensibility)\n",
        "\n",
        "4. Abstraction (Hides Complexity)\n",
        "\n",
        "5.  Modularity (Organized Code)\n",
        "\n"
      ],
      "metadata": {
        "id": "VjRIMITNG4M3"
      }
    },
    {
      "cell_type": "markdown",
      "source": [
        "**ANS:17**\n",
        "\n",
        "1️) **Class Variable**\n",
        "\n",
        "A class variable is shared among all instances of a class. It belongs to the class, not individual objects.\n",
        "\n",
        "Key Features:\n",
        "1. Defined outside any method, usually at the top of the class.\n",
        "2. Shared by all instances of the class.\n",
        "3. Changing the value of a class variable affects all instances.\n",
        "\n",
        "2️)  **Instance Variable**\n",
        "\n",
        "An instance variable is unique to each object. It belongs to individual instances, not the class itself.\n",
        "\n",
        " Key Features:\n",
        "1. Defined inside the __init__() method using self.\n",
        "2. Unique for each instance (object).\n",
        "3. Changing an instance variable does not affect other objects."
      ],
      "metadata": {
        "id": "g3SfMcFQG4Kp"
      }
    },
    {
      "cell_type": "markdown",
      "source": [
        "**ANS:18** Multiple Inheritance is an OOP feature where a class inherits from more than one parent class. This allows a child class to inherit attributes and methods from multiple sources."
      ],
      "metadata": {
        "id": "PBGaHKe-G4Im"
      }
    },
    {
      "cell_type": "markdown",
      "source": [
        "**ANS:19** Both __str__() and __repr__() are dunder (double underscore) methods used to define how objects are represented as strings. They help control how an object is displayed when printed or inspected."
      ],
      "metadata": {
        "id": "C6isxaDsG4F2"
      }
    },
    {
      "cell_type": "markdown",
      "source": [
        "**ANS:20** The super() function in Python is used to call methods from a parent (superclass) in a child (subclass). It allows access to the parent’s attributes, methods, and constructor without explicitly referring to the parent class name."
      ],
      "metadata": {
        "id": "1uMY8fiQG4DN"
      }
    },
    {
      "cell_type": "markdown",
      "source": [
        "**ANS:21** The __del__() method in Python is a destructor method that is called when an object is about to be destroyed or garbage collected. It allows for cleanup operations like closing files, releasing resources, or logging before an object is removed from memory."
      ],
      "metadata": {
        "id": "nbccASkTG4A3"
      }
    },
    {
      "cell_type": "markdown",
      "source": [
        "**ANS:22**\n",
        "\n",
        "1️) @staticmethod – Independent Utility Function\n",
        "\n",
        "\n",
        "1. Does not use self or cls (works like a regular function inside a class).\n",
        "2. Cannot access or modify class/instance attributes.\n",
        "3. Used for utility/helper functions related to the class.\n",
        "\n",
        "2️) @classmethod – Works with Class (cls)\n",
        "\n",
        "\n",
        "1. Uses cls as the first parameter instead of self.\n",
        "2. Can access and modify class variables (shared across all instances).\n",
        "3. Used when a method needs to work with the class itself, not instances."
      ],
      "metadata": {
        "id": "LphdB4kdG3-d"
      }
    },
    {
      "cell_type": "markdown",
      "source": [
        "**ANS:23** Polymorphism allows the same method to have different behaviors depending on the object calling it.\n",
        "When used with inheritance, it allows a child class to override methods of the parent class while keeping the same method name."
      ],
      "metadata": {
        "id": "jz0OzCr1G30i"
      }
    },
    {
      "cell_type": "markdown",
      "source": [
        "**ANS:24** Method chaining is a technique in Object-Oriented Programming (OOP) where multiple methods are called on the same object in a single line.\n",
        "Each method returns self, allowing the next method to be called immediately"
      ],
      "metadata": {
        "id": "dwMnUoLOG3ni"
      }
    },
    {
      "cell_type": "markdown",
      "source": [
        "**ANS:25** The __call__() method in Python allows an object to be called like a function. It is a special method that makes an instance of a class callable, meaning you can use an instance of the class in a similar way to how you would call a function."
      ],
      "metadata": {
        "id": "1D1cr2utG3Pi"
      }
    },
    {
      "cell_type": "markdown",
      "source": [
        "**PRACTICAL QUESTIONS**"
      ],
      "metadata": {
        "id": "jxypkKbegIrQ"
      }
    },
    {
      "cell_type": "code",
      "source": [
        "#ANS:1\n",
        "class animal():\n",
        "  def speak(self):\n",
        "    print(\"Animal is speaking\")\n",
        "  def dog(animal):\n",
        "    print(\"Bark\")"
      ],
      "metadata": {
        "id": "ALfLRavtgBrR"
      },
      "execution_count": 1,
      "outputs": []
    },
    {
      "cell_type": "code",
      "source": [
        "animals = animal()"
      ],
      "metadata": {
        "id": "FQVzzxIjo2Ww"
      },
      "execution_count": 2,
      "outputs": []
    },
    {
      "cell_type": "code",
      "source": [
        "animals.dog()"
      ],
      "metadata": {
        "colab": {
          "base_uri": "https://localhost:8080/"
        },
        "id": "9OAqtocCo6fe",
        "outputId": "73d31be3-8add-4439-e964-89fccf25baa0"
      },
      "execution_count": 4,
      "outputs": [
        {
          "output_type": "stream",
          "name": "stdout",
          "text": [
            "Bark\n"
          ]
        }
      ]
    },
    {
      "cell_type": "code",
      "source": [
        "animals.speak()"
      ],
      "metadata": {
        "colab": {
          "base_uri": "https://localhost:8080/"
        },
        "id": "vARbT66po86S",
        "outputId": "43f4c850-c2a6-4dc0-ddbe-58c3fbb1e35d"
      },
      "execution_count": 6,
      "outputs": [
        {
          "output_type": "stream",
          "name": "stdout",
          "text": [
            "Animal is speaking\n"
          ]
        }
      ]
    },
    {
      "cell_type": "code",
      "source": [
        "#ANS.2\n",
        "class Circle():\n",
        "  def __init__(self,radius):\n",
        "    self.radius = radius\n",
        "  def area(self):\n",
        "    return 3.14*(self.radius**2)\n",
        "class Rectangle():\n",
        "  def __init__(self,length,width):\n",
        "    self.length = length\n",
        "    self.width = width\n",
        "  def area(self):\n",
        "    return self.length*self.width"
      ],
      "metadata": {
        "id": "eASOn6ObpCHj"
      },
      "execution_count": 7,
      "outputs": []
    },
    {
      "cell_type": "code",
      "source": [
        "circle = Circle(5)\n",
        "rectangle = Rectangle(5,6)"
      ],
      "metadata": {
        "id": "IQNPPU7VpZEq"
      },
      "execution_count": 11,
      "outputs": []
    },
    {
      "cell_type": "code",
      "source": [
        "circle.area()"
      ],
      "metadata": {
        "colab": {
          "base_uri": "https://localhost:8080/"
        },
        "id": "pBBQ_1ztpisb",
        "outputId": "8f38b4fa-0ff2-419c-cc94-0f0e3819d0dd"
      },
      "execution_count": 13,
      "outputs": [
        {
          "output_type": "execute_result",
          "data": {
            "text/plain": [
              "78.5"
            ]
          },
          "metadata": {},
          "execution_count": 13
        }
      ]
    },
    {
      "cell_type": "code",
      "source": [
        "rectangle.area()"
      ],
      "metadata": {
        "colab": {
          "base_uri": "https://localhost:8080/"
        },
        "id": "Br48esOYpzW0",
        "outputId": "1e279c09-3027-4bcc-bd2c-4a1aef8f6d76"
      },
      "execution_count": 14,
      "outputs": [
        {
          "output_type": "execute_result",
          "data": {
            "text/plain": [
              "30"
            ]
          },
          "metadata": {},
          "execution_count": 14
        }
      ]
    },
    {
      "cell_type": "code",
      "source": [
        "#ANS.3\n",
        "class vehicle():\n",
        "  def __init__(self,type):\n",
        "    self.type = type\n",
        "  def show_type(self):\n",
        "    print(f\"This is a {self.type} vehicle\")\n",
        "class car(vehicle):\n",
        "  def __init__(self,type,model):\n",
        "    super().__init__(type)\n",
        "    self.model = model\n",
        "  def show_model(self):\n",
        "    print(f\"This is a {self.model} car\")\n",
        "class Electric_car(car):\n",
        "  def __init__(self,type,model,battery):\n",
        "    super().__init__(type,model)\n",
        "    self.battery = battery\n",
        "  def show_battery(self):\n",
        "    print(f\"This is a {self.battery} kwh battery car\")\n"
      ],
      "metadata": {
        "id": "t-DSD0aUp3TC"
      },
      "execution_count": 30,
      "outputs": []
    },
    {
      "cell_type": "code",
      "source": [
        "mercedes = Electric_car(\"Four Wheeler\",\"SUV\",75)"
      ],
      "metadata": {
        "id": "dXu5uZuOrQB5"
      },
      "execution_count": 35,
      "outputs": []
    },
    {
      "cell_type": "code",
      "source": [
        "mercedes.show_type()"
      ],
      "metadata": {
        "colab": {
          "base_uri": "https://localhost:8080/"
        },
        "id": "vyxJpUDPsbc3",
        "outputId": "d0ae6df6-395a-4ab1-e237-323e154f5459"
      },
      "execution_count": 22,
      "outputs": [
        {
          "output_type": "stream",
          "name": "stdout",
          "text": [
            "This is a Four Wheeler vehicle\n"
          ]
        }
      ]
    },
    {
      "cell_type": "code",
      "source": [
        "mercedes.show_model()"
      ],
      "metadata": {
        "colab": {
          "base_uri": "https://localhost:8080/"
        },
        "id": "d-0TyvaFtHxR",
        "outputId": "b34dfc36-5d22-48cc-c04f-dfe3f17163f6"
      },
      "execution_count": 25,
      "outputs": [
        {
          "output_type": "stream",
          "name": "stdout",
          "text": [
            "This is a SUV car\n"
          ]
        }
      ]
    },
    {
      "cell_type": "code",
      "source": [
        "mercedes.show_battery()"
      ],
      "metadata": {
        "colab": {
          "base_uri": "https://localhost:8080/"
        },
        "id": "47lg2yTCtSqV",
        "outputId": "7fbafee3-9286-41f3-f389-494a45627c69"
      },
      "execution_count": 36,
      "outputs": [
        {
          "output_type": "stream",
          "name": "stdout",
          "text": [
            "This is a 75 kwh battery car\n"
          ]
        }
      ]
    },
    {
      "cell_type": "code",
      "source": [
        "#ANS 4 repeated question!!\n",
        "#same answer as of 3 question"
      ],
      "metadata": {
        "id": "inl8i4cvtcd6"
      },
      "execution_count": 37,
      "outputs": []
    },
    {
      "cell_type": "code",
      "source": [
        "#ANS 5\n",
        "class bank_account():\n",
        "  def __init__(self,balance):\n",
        "    self.__balance = balance\n",
        "  def deposit(self,amount):\n",
        "    self.__balance = self.__balance + amount\n",
        "  def withdraw(self,amount):\n",
        "    if self.__balance >= amount:\n",
        "      self.__balance = self.__balance - amount\n",
        "      return \"Sufficient balance\"\n",
        "    else:\n",
        "      return \"Insufficient Balance\"\n",
        "  def get_balance(self):\n",
        "    return self.__balance\n"
      ],
      "metadata": {
        "id": "7TqAdAQxt3TE"
      },
      "execution_count": 38,
      "outputs": []
    },
    {
      "cell_type": "code",
      "source": [
        "b1 = bank_account(1000)"
      ],
      "metadata": {
        "id": "ZfW7REVLw-95"
      },
      "execution_count": 39,
      "outputs": []
    },
    {
      "cell_type": "code",
      "source": [
        "b1.get_balance()"
      ],
      "metadata": {
        "colab": {
          "base_uri": "https://localhost:8080/"
        },
        "id": "fqxriq_BxDDw",
        "outputId": "f3f018c3-0709-41b9-8192-33023f370289"
      },
      "execution_count": 41,
      "outputs": [
        {
          "output_type": "execute_result",
          "data": {
            "text/plain": [
              "1000"
            ]
          },
          "metadata": {},
          "execution_count": 41
        }
      ]
    },
    {
      "cell_type": "code",
      "source": [
        "b1.withdraw(2000)"
      ],
      "metadata": {
        "colab": {
          "base_uri": "https://localhost:8080/",
          "height": 36
        },
        "id": "Lo6-mRLkxFPq",
        "outputId": "093219b0-7741-424f-9610-5a5974dcef8f"
      },
      "execution_count": 42,
      "outputs": [
        {
          "output_type": "execute_result",
          "data": {
            "text/plain": [
              "'Insufficient Balance'"
            ],
            "application/vnd.google.colaboratory.intrinsic+json": {
              "type": "string"
            }
          },
          "metadata": {},
          "execution_count": 42
        }
      ]
    },
    {
      "cell_type": "code",
      "source": [
        "b1.deposit(2000)"
      ],
      "metadata": {
        "id": "DIeJJmbExJBl"
      },
      "execution_count": 43,
      "outputs": []
    },
    {
      "cell_type": "code",
      "source": [
        "b1.get_balance()"
      ],
      "metadata": {
        "colab": {
          "base_uri": "https://localhost:8080/"
        },
        "id": "Q3FvwGSMxM0d",
        "outputId": "1d6ac12d-7f36-4bbf-e57d-46072d7504f1"
      },
      "execution_count": 48,
      "outputs": [
        {
          "output_type": "execute_result",
          "data": {
            "text/plain": [
              "3000"
            ]
          },
          "metadata": {},
          "execution_count": 48
        }
      ]
    },
    {
      "cell_type": "code",
      "source": [
        "# ANS 6\n",
        "class Instruments():\n",
        "  def play(self):\n",
        "    print(\"Instrument is playing\")\n",
        "class Piano(Instruments):\n",
        "  def play(self):\n",
        "    print(\"Piano is Playing\")\n",
        "class Guitar(Instruments):\n",
        "  def play(self):\n",
        "    print(\"Guitar is Playing\")\n",
        "instruments = [Guitar(),Piano(),Instruments()]\n",
        "for instrument in instruments:\n",
        "  instrument.play()"
      ],
      "metadata": {
        "colab": {
          "base_uri": "https://localhost:8080/"
        },
        "id": "YoKlZkga5kjl",
        "outputId": "e57fd088-c5fa-41ef-a1f2-a1bc6420cd9a"
      },
      "execution_count": 53,
      "outputs": [
        {
          "output_type": "stream",
          "name": "stdout",
          "text": [
            "Guitar is Playing\n",
            "Piano is Playing\n",
            "Instrument is playing\n"
          ]
        }
      ]
    },
    {
      "cell_type": "code",
      "source": [
        "# ANS 7\n",
        "class mathoperation():\n",
        "  @classmethod\n",
        "  def add_numbers(self,a,b):\n",
        "    return a+b\n",
        "  @staticmethod\n",
        "  def subtract_number(a,b):\n",
        "    return a-b\n",
        "sum_result = mathoperation.add_numbers(10,5)\n",
        "difference_result = mathoperation.subtract_number(10,5)\n"
      ],
      "metadata": {
        "id": "At9EvJli6CPK"
      },
      "execution_count": 54,
      "outputs": []
    },
    {
      "cell_type": "code",
      "source": [
        "sum_result"
      ],
      "metadata": {
        "colab": {
          "base_uri": "https://localhost:8080/"
        },
        "id": "JAUd4AyP9X2Z",
        "outputId": "24448e45-3789-44af-d9a9-88c7b364cc46"
      },
      "execution_count": 55,
      "outputs": [
        {
          "output_type": "execute_result",
          "data": {
            "text/plain": [
              "15"
            ]
          },
          "metadata": {},
          "execution_count": 55
        }
      ]
    },
    {
      "cell_type": "code",
      "source": [
        "difference_result"
      ],
      "metadata": {
        "colab": {
          "base_uri": "https://localhost:8080/"
        },
        "id": "LLihMHY59aZV",
        "outputId": "b61a014a-33de-41b3-d9fd-584631acf9d7"
      },
      "execution_count": 56,
      "outputs": [
        {
          "output_type": "execute_result",
          "data": {
            "text/plain": [
              "5"
            ]
          },
          "metadata": {},
          "execution_count": 56
        }
      ]
    },
    {
      "cell_type": "code",
      "source": [
        "# ANS:8\n",
        "class Person():\n",
        "  count = 0\n",
        "  def __init__(self,name):\n",
        "    self.name = name\n",
        "    Person.count += 1\n",
        "  @classmethod\n",
        "  def count_instances(cls):\n",
        "    return cls.count\n",
        "total_person = Person(\"Jenish\")"
      ],
      "metadata": {
        "id": "79fC1g9Q9cJe"
      },
      "execution_count": 72,
      "outputs": []
    },
    {
      "cell_type": "code",
      "source": [
        "s1 = Person(\"John\")\n",
        "s2 = Person(\"Jane\")\n",
        "s3 = Person(\"Bob\")\n",
        "total_person.count_instances()"
      ],
      "metadata": {
        "colab": {
          "base_uri": "https://localhost:8080/"
        },
        "id": "llw_sWJS_vsP",
        "outputId": "aa965c2c-6a1d-41aa-c4a0-9b7b6fffcb54"
      },
      "execution_count": 73,
      "outputs": [
        {
          "output_type": "execute_result",
          "data": {
            "text/plain": [
              "4"
            ]
          },
          "metadata": {},
          "execution_count": 73
        }
      ]
    },
    {
      "cell_type": "code",
      "source": [
        "# ANS:9\n",
        "class Fraction():\n",
        "  def __init__(self,numerator,denominator):\n",
        "    self.numerator = numerator\n",
        "    self.denominator = denominator\n",
        "  def __str__(self):\n",
        "    return f\"{self.numerator}/{self.denominator}\""
      ],
      "metadata": {
        "id": "jMNTSSFSAz04"
      },
      "execution_count": 79,
      "outputs": []
    },
    {
      "cell_type": "code",
      "source": [
        "fraction = Fraction(3,4)"
      ],
      "metadata": {
        "id": "F-Gbm-h5BM-V"
      },
      "execution_count": 76,
      "outputs": []
    },
    {
      "cell_type": "code",
      "source": [
        "print(fraction)"
      ],
      "metadata": {
        "colab": {
          "base_uri": "https://localhost:8080/"
        },
        "id": "qjr1skwXBR1l",
        "outputId": "f976fa30-a86a-4378-c336-e4795a53180a"
      },
      "execution_count": 78,
      "outputs": [
        {
          "output_type": "stream",
          "name": "stdout",
          "text": [
            "3/4\n"
          ]
        }
      ]
    },
    {
      "cell_type": "code",
      "source": [
        "# ANS:10\n",
        "class vector():\n",
        "  def __init__(self,a,b):\n",
        "    self.a = a\n",
        "    self.b = b\n",
        "  def __add__(self,other):\n",
        "    return vector(self.a+other.a,self.b+other.b)"
      ],
      "metadata": {
        "id": "sOGEtBGDC21U"
      },
      "execution_count": 86,
      "outputs": []
    },
    {
      "cell_type": "code",
      "source": [
        "v1 = vector(10,20)\n",
        "v2 = vector(50,100)\n",
        "v3 = v1 + v2"
      ],
      "metadata": {
        "id": "qVTPvTmcDIv4"
      },
      "execution_count": 87,
      "outputs": []
    },
    {
      "cell_type": "code",
      "source": [
        "print(v3.a,v3.b)"
      ],
      "metadata": {
        "colab": {
          "base_uri": "https://localhost:8080/"
        },
        "id": "4SghucyNDZnV",
        "outputId": "6dafb590-9c1d-496f-9580-28719cb81368"
      },
      "execution_count": 88,
      "outputs": [
        {
          "output_type": "stream",
          "name": "stdout",
          "text": [
            "60 120\n"
          ]
        }
      ]
    },
    {
      "cell_type": "code",
      "source": [
        "# ANS:11\n",
        "class Person():\n",
        "  def __init__(self,name,age):\n",
        "    self.name = name\n",
        "    self.age = age\n",
        "  def greet(self):\n",
        "    print(f\"Hello, my name is {self.name} and I am {self.age} years old\")\n",
        "p1 = Person(\"Jenish\",19)"
      ],
      "metadata": {
        "id": "PRdO1PAjDdOq"
      },
      "execution_count": 90,
      "outputs": []
    },
    {
      "cell_type": "code",
      "source": [
        "p1.greet()"
      ],
      "metadata": {
        "colab": {
          "base_uri": "https://localhost:8080/"
        },
        "id": "MJXfTwInEEhT",
        "outputId": "a39a7f79-0722-4b2c-ad81-2418b1bd72c4"
      },
      "execution_count": 92,
      "outputs": [
        {
          "output_type": "stream",
          "name": "stdout",
          "text": [
            "Hello, my name is Jenish and I am 19 years old\n"
          ]
        }
      ]
    },
    {
      "cell_type": "code",
      "source": [
        "# ANS:12\n",
        "class Student():\n",
        "  def __init__(self,name,grades):\n",
        "    self.name = name\n",
        "    self.grades = grades\n",
        "  def average_grade(self):\n",
        "    return sum(self.grades)/len(self.grades) if self.grades else 0"
      ],
      "metadata": {
        "id": "A5xy82MbEMaH"
      },
      "execution_count": 98,
      "outputs": []
    },
    {
      "cell_type": "code",
      "source": [
        "s1 = Student(\"Jenish\",[85,86,94,89])\n",
        "s2 = Student(\"Manan\",[99,95,92,89])\n",
        "s3 = Student(\"Nimit\",[99,97,97,91])"
      ],
      "metadata": {
        "id": "a6cWLjlXEkN3"
      },
      "execution_count": 99,
      "outputs": []
    },
    {
      "cell_type": "code",
      "source": [
        "s1.average_grade()"
      ],
      "metadata": {
        "colab": {
          "base_uri": "https://localhost:8080/"
        },
        "id": "hVOvcQwfEq_9",
        "outputId": "594fe8e1-19d3-40bd-b5a6-9ca1c8e05d00"
      },
      "execution_count": 100,
      "outputs": [
        {
          "output_type": "execute_result",
          "data": {
            "text/plain": [
              "88.5"
            ]
          },
          "metadata": {},
          "execution_count": 100
        }
      ]
    },
    {
      "cell_type": "code",
      "source": [
        "s2.average_grade()"
      ],
      "metadata": {
        "colab": {
          "base_uri": "https://localhost:8080/"
        },
        "id": "T8McOIrqEsgn",
        "outputId": "3ba1dda3-ac91-46ad-b6b0-713f9e4ccd9c"
      },
      "execution_count": 101,
      "outputs": [
        {
          "output_type": "execute_result",
          "data": {
            "text/plain": [
              "93.75"
            ]
          },
          "metadata": {},
          "execution_count": 101
        }
      ]
    },
    {
      "cell_type": "code",
      "source": [
        "s3.average_grade()"
      ],
      "metadata": {
        "colab": {
          "base_uri": "https://localhost:8080/"
        },
        "id": "sBwyFl1MFmRG",
        "outputId": "60492d9e-3a69-4c06-ad95-317116e15e74"
      },
      "execution_count": 102,
      "outputs": [
        {
          "output_type": "execute_result",
          "data": {
            "text/plain": [
              "96.0"
            ]
          },
          "metadata": {},
          "execution_count": 102
        }
      ]
    },
    {
      "cell_type": "code",
      "source": [
        "# ANS:13\n",
        "class Rectangle:\n",
        "    def __init__(self):\n",
        "        self.length = 0\n",
        "        self.width = 0\n",
        "\n",
        "    def set_dimensions(self, length, width):\n",
        "        \"\"\"Sets the dimensions of the rectangle\"\"\"\n",
        "        self.length = length\n",
        "        self.width = width\n",
        "\n",
        "    def area(self):\n",
        "        \"\"\"Calculates and returns the area of the rectangle\"\"\"\n",
        "        return self.length * self.width\n",
        "\n",
        "# Creating a Rectangle object\n",
        "rect = Rectangle()\n",
        "\n",
        "# Setting dimensions\n",
        "rect.set_dimensions(5, 10)\n",
        "\n",
        "# Calculating and displaying the area\n",
        "print(f\"Rectangle): {rect.area()}\")\n"
      ],
      "metadata": {
        "colab": {
          "base_uri": "https://localhost:8080/"
        },
        "id": "KpPKMi3RFnr5",
        "outputId": "29ea3e65-9ec0-4cdf-fbcc-04743506bc27"
      },
      "execution_count": 2,
      "outputs": [
        {
          "output_type": "stream",
          "name": "stdout",
          "text": [
            "Rectangle): 50\n"
          ]
        }
      ]
    },
    {
      "cell_type": "code",
      "source": [
        "# ANS:14\n",
        "class Employee:\n",
        "    def __init__(self, name, hours_worked, hourly_rate):\n",
        "        self.name = name\n",
        "        self.hours_worked = hours_worked\n",
        "        self.hourly_rate = hourly_rate\n",
        "\n",
        "    def calculate_salary(self):\n",
        "        \"\"\"Computes salary based on hours worked and hourly rate\"\"\"\n",
        "        return self.hours_worked * self.hourly_rate\n",
        "\n",
        "class Manager(Employee):\n",
        "    def __init__(self, name, hours_worked, hourly_rate, bonus):\n",
        "        super().__init__(name, hours_worked, hourly_rate)  # Call Employee's constructor\n",
        "        self.bonus = bonus\n",
        "\n",
        "    def calculate_salary(self):\n",
        "        \"\"\"Computes salary including bonus\"\"\"\n",
        "        base_salary = super().calculate_salary()  # Get Employee salary\n",
        "        return base_salary + self.bonus\n",
        "\n",
        "# Creating an Employee object\n",
        "emp = Employee(\"Alice\", 40, 20)\n",
        "print(f\"{emp.name}'s Salary: ${emp.calculate_salary()}\")\n",
        "\n",
        "# Creating a Manager object\n",
        "mgr = Manager(\"Bob\", 40, 30, 500)  # Bonus of $500\n",
        "print(f\"{mgr.name}'s Salary: ${mgr.calculate_salary()}\")\n",
        "\n",
        "\n",
        "\n"
      ],
      "metadata": {
        "colab": {
          "base_uri": "https://localhost:8080/"
        },
        "id": "wXrwmeC6Fj52",
        "outputId": "c6c6da06-bac0-4496-c30d-b3df4ce0bafc"
      },
      "execution_count": 3,
      "outputs": [
        {
          "output_type": "stream",
          "name": "stdout",
          "text": [
            "Alice's Salary: $800\n",
            "Bob's Salary: $1700\n"
          ]
        }
      ]
    },
    {
      "cell_type": "code",
      "source": [
        "# ANS:15\n",
        "class Product:\n",
        "    def __init__(self, name, price, quantity):\n",
        "        self.name = name\n",
        "        self.price = price\n",
        "        self.quantity = quantity\n",
        "\n",
        "    def total_price(self):\n",
        "        \"\"\"Computes total price of the product\"\"\"\n",
        "        return self.price * self.quantity\n",
        "\n",
        "# Creating product objects\n",
        "p1 = Product(\"Laptop\", 800, 2)\n",
        "p2 = Product(\"Headphones\", 50, 5)\n",
        "\n",
        "# Displaying total prices\n",
        "print(f\"{p1.name} Total Price: ${p1.total_price()}\")\n",
        "print(f\"{p2.name} Total Price: ${p2.total_price()}\")\n"
      ],
      "metadata": {
        "colab": {
          "base_uri": "https://localhost:8080/"
        },
        "id": "hTXrpDPUGRF2",
        "outputId": "18d45369-f052-4720-963e-f4559de24f5c"
      },
      "execution_count": 4,
      "outputs": [
        {
          "output_type": "stream",
          "name": "stdout",
          "text": [
            "Laptop Total Price: $1600\n",
            "Headphones Total Price: $250\n"
          ]
        }
      ]
    },
    {
      "cell_type": "code",
      "source": [
        "# ANS:16\n",
        "from abc import ABC, abstractmethod\n",
        "\n",
        "class Animal(ABC):  # Abstract Base Class\n",
        "    @abstractmethod\n",
        "    def sound(self):\n",
        "        \"\"\"Abstract method to define the sound of an animal\"\"\"\n",
        "        pass\n",
        "\n",
        "class Cow(Animal):  # Derived class\n",
        "    def sound(self):\n",
        "        return \"Moo 🐄\"\n",
        "\n",
        "class Sheep(Animal):  # Derived class\n",
        "    def sound(self):\n",
        "        return \"Baa 🐑\"\n",
        "\n",
        "# Creating instances\n",
        "cow = Cow()\n",
        "sheep = Sheep()\n",
        "\n",
        "# Calling the sound method\n",
        "print(f\"Cow: {cow.sound()}\")\n",
        "print(f\"Sheep: {sheep.sound()}\")\n"
      ],
      "metadata": {
        "colab": {
          "base_uri": "https://localhost:8080/"
        },
        "id": "REcFbtWRGwvH",
        "outputId": "c4994bc9-fd7b-48ef-9771-79e274b7b331"
      },
      "execution_count": 5,
      "outputs": [
        {
          "output_type": "stream",
          "name": "stdout",
          "text": [
            "Cow: Moo 🐄\n",
            "Sheep: Baa 🐑\n"
          ]
        }
      ]
    },
    {
      "cell_type": "code",
      "source": [
        "# ANS:17\n",
        "class Book:\n",
        "    def __init__(self, title, author, year_published):\n",
        "        self.title = title\n",
        "        self.author = author\n",
        "        self.year_published = year_published\n",
        "\n",
        "    def get_book_info(self):\n",
        "        \"\"\"Returns formatted book details\"\"\"\n",
        "        return f\"'{self.title}' by {self.author}, published in {self.year_published}.\"\n",
        "\n",
        "# Creating book objects\n",
        "book1 = Book(\"To Kill a Mockingbird\", \"Harper Lee\", 1960)\n",
        "book2 = Book(\"1984\", \"George Orwell\", 1949)\n",
        "\n",
        "# Displaying book details\n",
        "print(book1.get_book_info())\n",
        "print(book2.get_book_info())\n"
      ],
      "metadata": {
        "colab": {
          "base_uri": "https://localhost:8080/"
        },
        "id": "C-lxqSvwHAaz",
        "outputId": "e6fd83fe-c06b-49d7-ca4e-a6aedbd0209c"
      },
      "execution_count": 6,
      "outputs": [
        {
          "output_type": "stream",
          "name": "stdout",
          "text": [
            "'To Kill a Mockingbird' by Harper Lee, published in 1960.\n",
            "'1984' by George Orwell, published in 1949.\n"
          ]
        }
      ]
    },
    {
      "cell_type": "code",
      "source": [
        "#ANS:18\n",
        "class House:\n",
        "    def __init__(self, address, price):\n",
        "        self.address = address\n",
        "        self.price = price\n",
        "\n",
        "    def show_info(self):\n",
        "        \"\"\"Displays house details\"\"\"\n",
        "        return f\"Address: {self.address}, Price: ${self.price}\"\n",
        "\n",
        "class Mansion(House):\n",
        "    def __init__(self, address, price, number_of_rooms):\n",
        "        super().__init__(address, price)  # Call House's constructor\n",
        "        self.number_of_rooms = number_of_rooms\n",
        "\n",
        "    def show_info(self):\n",
        "        \"\"\"Displays mansion details, including number of rooms\"\"\"\n",
        "        return f\"{super().show_info()}, Rooms: {self.number_of_rooms}\"\n",
        "\n",
        "# Creating house object\n",
        "house = House(\"123 Main St\", 250000)\n",
        "print(house.show_info())\n",
        "\n",
        "# Creating mansion object\n",
        "mansion = Mansion(\"Luxury Ave 456\", 5000000, 10)\n",
        "print(mansion.show_info())\n"
      ],
      "metadata": {
        "colab": {
          "base_uri": "https://localhost:8080/"
        },
        "id": "0KsE9VWbHO6f",
        "outputId": "b0760935-6cce-471c-9751-fc8355b0d74f"
      },
      "execution_count": 7,
      "outputs": [
        {
          "output_type": "stream",
          "name": "stdout",
          "text": [
            "Address: 123 Main St, Price: $250000\n",
            "Address: Luxury Ave 456, Price: $5000000, Rooms: 10\n"
          ]
        }
      ]
    },
    {
      "cell_type": "code",
      "source": [],
      "metadata": {
        "id": "-_TIBj4WHdWl"
      },
      "execution_count": null,
      "outputs": []
    }
  ]
}